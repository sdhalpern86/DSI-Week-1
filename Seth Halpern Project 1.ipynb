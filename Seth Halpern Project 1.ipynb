{
 "cells": [
  {
   "cell_type": "markdown",
   "metadata": {},
   "source": [
    "# Project 1\n",
    "\n",
    "## Step 1: Open the `sat_scores.csv` file. Investigate the data, and answer the questions below.\n"
   ]
  },
  {
   "cell_type": "markdown",
   "metadata": {},
   "source": [
    "##### 1. What does the data describe?"
   ]
  },
  {
   "cell_type": "markdown",
   "metadata": {},
   "source": [
    "The data describe state level SAT participation rates (as a % of eligible students), as well as the average math and verbal scores in each state. The last row is the national participation rate, and average math and verbal scores."
   ]
  },
  {
   "cell_type": "markdown",
   "metadata": {},
   "source": [
    "##### 2. Does the data look complete? Are there any obvious issues with the observations?"
   ]
  },
  {
   "cell_type": "markdown",
   "metadata": {},
   "source": [
    "The data appears to contain all 50 states plus the District of Columbia. While I cannot comment on the accuracy of the data for each state, I am happy to see my homestate of CT right at the top for participation rate (go Nutmeggers!)\n",
    "\n",
    "Returning to the question at hand, there is one *potential* issue with the observations. The \"All\" row average for participation and verbal/math scores differs from the average of the state data listed above in the file. I am hoping that this is because the \"All\" row is a true national average rather than a distorted average that would result from reliance on state-level data. This is likely the case - and if it is indeed a true national average - I do not see any issues with the observations. "
   ]
  },
  {
   "cell_type": "markdown",
   "metadata": {},
   "source": [
    "##### 3. Create a data dictionary for the dataset."
   ]
  },
  {
   "cell_type": "code",
   "execution_count": 95,
   "metadata": {
    "collapsed": false
   },
   "outputs": [],
   "source": [
    "import pandas as pd # import pandas, call it pd\n",
    "import numpy as np\n",
    "import csv\n",
    "sat_scores = pd.read_csv('sat_scores.csv') # read in the data, where the data is a csv\n",
    "\n",
    "df = []\n",
    "for index, row in sat_scores.iterrows():\n",
    "    values = []\n",
    "    for i, item in enumerate(row):\n",
    "        values.append(item)   \n",
    "        #sat_scores[headers[i]] =  item\n",
    "        df.append(values)\n",
    "        \n",
    "\n",
    "\n",
    "#with open('sat_scores.csv', mode='r') as infile: #commenting out the csv module approach in favor of pandas above\n",
    "#    reader = csv.reader(infile)\n",
    "#    #next(reader, None) #skip the header row\n",
    "#    with open ('sat_score.csv', mode='w') as outfile:\n",
    "#        sat_scores = csv.writer(outfile)\n"
   ]
  },
  {
   "cell_type": "markdown",
   "metadata": {},
   "source": [
    "## Step 2: Load the data."
   ]
  },
  {
   "cell_type": "markdown",
   "metadata": {},
   "source": [
    "##### 4. Load the data into a list of lists"
   ]
  },
  {
   "cell_type": "code",
   "execution_count": 96,
   "metadata": {
    "collapsed": false
   },
   "outputs": [],
   "source": [
    "temps = pd.DataFrame(df).drop_duplicates() #rows were repeating four times so had to dedupe\n",
    "\n"
   ]
  },
  {
   "cell_type": "markdown",
   "metadata": {},
   "source": [
    "##### 5. Print the data"
   ]
  },
  {
   "cell_type": "code",
   "execution_count": 97,
   "metadata": {
    "collapsed": false
   },
   "outputs": [
    {
     "name": "stdout",
     "output_type": "stream",
     "text": [
      "       0   1    2    3\n",
      "0     CT  82  509  510\n",
      "4     NJ  81  499  513\n",
      "8     MA  79  511  515\n",
      "12    NY  77  495  505\n",
      "16    NH  72  520  516\n",
      "20    RI  71  501  499\n",
      "24    PA  71  500  499\n",
      "28    VT  69  511  506\n",
      "32    ME  69  506  500\n",
      "36    VA  68  510  501\n",
      "40    DE  67  501  499\n",
      "44    MD  65  508  510\n",
      "48    NC  65  493  499\n",
      "52    GA  63  491  489\n",
      "56    IN  60  499  501\n",
      "60    SC  57  486  488\n",
      "64    DC  56  482  474\n",
      "68    OR  55  526  526\n",
      "72    FL  54  498  499\n",
      "76    WA  53  527  527\n",
      "80    TX  53  493  499\n",
      "84    HI  52  485  515\n",
      "88    AK  51  514  510\n",
      "92    CA  51  498  517\n",
      "96    AZ  34  523  525\n",
      "100   NV  33  509  515\n",
      "104   CO  31  539  542\n",
      "108   OH  26  534  439\n",
      "112   MT  23  539  539\n",
      "116   WV  18  527  512\n",
      "120   ID  17  543  542\n",
      "124   TN  13  562  553\n",
      "128   NM  13  551  542\n",
      "132   IL  12  576  589\n",
      "136   KY  12  550  550\n",
      "140   WY  11  547  545\n",
      "144   MI  11  561  572\n",
      "148   MN   9  580  589\n",
      "152   KS   9  577  580\n",
      "156   AL   9  559  554\n",
      "160   NB   8  562  568\n",
      "164   OK   8  567  561\n",
      "168   MO   8  577  577\n",
      "172   LA   7  564  562\n",
      "176   WI   6  584  596\n",
      "180   AR   6  562  550\n",
      "184   UT   5  575  570\n",
      "188   IA   5  593  603\n",
      "192   SD   4  577  582\n",
      "196   ND   4  592  599\n",
      "200   MS   4  566  551\n",
      "204  All  45  506  514\n"
     ]
    }
   ],
   "source": [
    "print temps"
   ]
  },
  {
   "cell_type": "code",
   "execution_count": 56,
   "metadata": {
    "collapsed": true
   },
   "outputs": [],
   "source": [
    "##### 6. Extract a list of the labels from the data, and remove them from the data.\n",
    "#Performed using pandas, iterrows, and enumerate above"
   ]
  },
  {
   "cell_type": "markdown",
   "metadata": {},
   "source": [
    "##### 7. Create a list of State names extracted from the data. (Hint: use the list of labels to index on the State column)"
   ]
  },
  {
   "cell_type": "code",
   "execution_count": 98,
   "metadata": {
    "collapsed": false,
    "scrolled": true
   },
   "outputs": [
    {
     "data": {
      "text/plain": [
       "0       CT\n",
       "4       NJ\n",
       "8       MA\n",
       "12      NY\n",
       "16      NH\n",
       "20      RI\n",
       "24      PA\n",
       "28      VT\n",
       "32      ME\n",
       "36      VA\n",
       "40      DE\n",
       "44      MD\n",
       "48      NC\n",
       "52      GA\n",
       "56      IN\n",
       "60      SC\n",
       "64      DC\n",
       "68      OR\n",
       "72      FL\n",
       "76      WA\n",
       "80      TX\n",
       "84      HI\n",
       "88      AK\n",
       "92      CA\n",
       "96      AZ\n",
       "100     NV\n",
       "104     CO\n",
       "108     OH\n",
       "112     MT\n",
       "116     WV\n",
       "120     ID\n",
       "124     TN\n",
       "128     NM\n",
       "132     IL\n",
       "136     KY\n",
       "140     WY\n",
       "144     MI\n",
       "148     MN\n",
       "152     KS\n",
       "156     AL\n",
       "160     NB\n",
       "164     OK\n",
       "168     MO\n",
       "172     LA\n",
       "176     WI\n",
       "180     AR\n",
       "184     UT\n",
       "188     IA\n",
       "192     SD\n",
       "196     ND\n",
       "200     MS\n",
       "204    All\n",
       "Name: 0, dtype: object"
      ]
     },
     "execution_count": 98,
     "metadata": {},
     "output_type": "execute_result"
    }
   ],
   "source": [
    "temps[0] #slicing dataframe based on column 0"
   ]
  },
  {
   "cell_type": "markdown",
   "metadata": {},
   "source": [
    "##### 8. Print the types of each column"
   ]
  },
  {
   "cell_type": "code",
   "execution_count": 101,
   "metadata": {
    "collapsed": false
   },
   "outputs": [
    {
     "name": "stdout",
     "output_type": "stream",
     "text": [
      "<class 'pandas.core.frame.DataFrame'>\n",
      "Int64Index: 52 entries, 0 to 204\n",
      "Data columns (total 4 columns):\n",
      "0    52 non-null object\n",
      "1    52 non-null int64\n",
      "2    52 non-null int64\n",
      "3    52 non-null int64\n",
      "dtypes: int64(3), object(1)\n",
      "memory usage: 2.0+ KB\n"
     ]
    }
   ],
   "source": [
    "temps.info()"
   ]
  },
  {
   "cell_type": "markdown",
   "metadata": {},
   "source": [
    "##### 9. Do any types need to be reassigned? If so, go ahead and do it."
   ]
  },
  {
   "cell_type": "code",
   "execution_count": null,
   "metadata": {
    "collapsed": false
   },
   "outputs": [],
   "source": [
    "#I do not believe the types need to be reassigned"
   ]
  },
  {
   "cell_type": "markdown",
   "metadata": {},
   "source": [
    "##### 10. Create a dictionary for each column mapping the State to its respective value for that column. "
   ]
  },
  {
   "cell_type": "code",
   "execution_count": null,
   "metadata": {
    "collapsed": true
   },
   "outputs": [],
   "source": [
    "# Need help"
   ]
  },
  {
   "cell_type": "markdown",
   "metadata": {},
   "source": [
    "##### 11. Create a dictionary with the values for each of the numeric columns"
   ]
  },
  {
   "cell_type": "code",
   "execution_count": null,
   "metadata": {
    "collapsed": false
   },
   "outputs": [],
   "source": [
    "# Need help"
   ]
  },
  {
   "cell_type": "markdown",
   "metadata": {},
   "source": [
    "## Step 3: Describe the data"
   ]
  },
  {
   "cell_type": "markdown",
   "metadata": {},
   "source": [
    "##### 12. Print the min and max of each column"
   ]
  },
  {
   "cell_type": "code",
   "execution_count": 112,
   "metadata": {
    "collapsed": false
   },
   "outputs": [
    {
     "data": {
      "text/html": [
       "<div>\n",
       "<table border=\"1\" class=\"dataframe\">\n",
       "  <thead>\n",
       "    <tr style=\"text-align: right;\">\n",
       "      <th></th>\n",
       "      <th>0</th>\n",
       "      <th>1</th>\n",
       "      <th>2</th>\n",
       "      <th>3</th>\n",
       "    </tr>\n",
       "  </thead>\n",
       "  <tbody>\n",
       "    <tr>\n",
       "      <th>min</th>\n",
       "      <td>AK</td>\n",
       "      <td>4</td>\n",
       "      <td>482</td>\n",
       "      <td>439</td>\n",
       "    </tr>\n",
       "    <tr>\n",
       "      <th>max</th>\n",
       "      <td>WY</td>\n",
       "      <td>82</td>\n",
       "      <td>593</td>\n",
       "      <td>603</td>\n",
       "    </tr>\n",
       "  </tbody>\n",
       "</table>\n",
       "</div>"
      ],
      "text/plain": [
       "      0   1    2    3\n",
       "min  AK   4  482  439\n",
       "max  WY  82  593  603"
      ]
     },
     "execution_count": 112,
     "metadata": {},
     "output_type": "execute_result"
    }
   ],
   "source": [
    "#this appears to be operating on the alphabetical column 0 (state). NEED HELP.\n",
    "def minMax(temps):\n",
    "    return pd.Series(index=['min','max'],data=[temps.min(),temps.max()])\n",
    "\n",
    "temps.apply(minMax)"
   ]
  },
  {
   "cell_type": "markdown",
   "metadata": {},
   "source": [
    "##### 13. Write a function using only list comprehensions, no loops, to compute Standard Deviation. Print the Standard Deviation of each numeric column."
   ]
  },
  {
   "cell_type": "code",
   "execution_count": 119,
   "metadata": {
    "collapsed": false
   },
   "outputs": [
    {
     "ename": "TypeError",
     "evalue": "object of type 'int' has no len()",
     "output_type": "error",
     "traceback": [
      "\u001b[1;31m---------------------------------------------------------------------------\u001b[0m",
      "\u001b[1;31mTypeError\u001b[0m                                 Traceback (most recent call last)",
      "\u001b[1;32m<ipython-input-119-38258a6ad8be>\u001b[0m in \u001b[0;36m<module>\u001b[1;34m()\u001b[0m\n\u001b[0;32m      8\u001b[0m     \u001b[0mSD\u001b[0m \u001b[1;33m=\u001b[0m \u001b[0mmath\u001b[0m\u001b[1;33m.\u001b[0m\u001b[0msqrt\u001b[0m\u001b[1;33m(\u001b[0m \u001b[0msum\u001b[0m\u001b[1;33m(\u001b[0m\u001b[0mdev2\u001b[0m\u001b[1;33m)\u001b[0m \u001b[1;33m/\u001b[0m \u001b[0mn\u001b[0m\u001b[1;33m)\u001b[0m \u001b[1;31m# for the standard deviation of the population\u001b[0m\u001b[1;33m\u001b[0m\u001b[0m\n\u001b[0;32m      9\u001b[0m \u001b[1;33m\u001b[0m\u001b[0m\n\u001b[1;32m---> 10\u001b[1;33m \u001b[0mstandardDev\u001b[0m\u001b[1;33m(\u001b[0m\u001b[0mtemps\u001b[0m\u001b[1;33m)\u001b[0m\u001b[1;33m\u001b[0m\u001b[0m\n\u001b[0m",
      "\u001b[1;32m<ipython-input-119-38258a6ad8be>\u001b[0m in \u001b[0;36mstandardDev\u001b[1;34m(temps)\u001b[0m\n\u001b[0;32m      2\u001b[0m \u001b[1;33m\u001b[0m\u001b[0m\n\u001b[0;32m      3\u001b[0m \u001b[1;32mdef\u001b[0m \u001b[0mstandardDev\u001b[0m\u001b[1;33m(\u001b[0m\u001b[0mtemps\u001b[0m\u001b[1;33m)\u001b[0m\u001b[1;33m:\u001b[0m\u001b[1;33m\u001b[0m\u001b[0m\n\u001b[1;32m----> 4\u001b[1;33m     \u001b[0mn\u001b[0m \u001b[1;33m=\u001b[0m \u001b[0mlen\u001b[0m\u001b[1;33m(\u001b[0m\u001b[1;36m2\u001b[0m\u001b[1;33m)\u001b[0m\u001b[1;33m\u001b[0m\u001b[0m\n\u001b[0m\u001b[0;32m      5\u001b[0m     \u001b[0mmean\u001b[0m \u001b[1;33m=\u001b[0m \u001b[0msum\u001b[0m\u001b[1;33m(\u001b[0m\u001b[1;36m2\u001b[0m\u001b[1;33m)\u001b[0m \u001b[1;33m/\u001b[0m \u001b[0mn\u001b[0m\u001b[1;33m\u001b[0m\u001b[0m\n\u001b[0;32m      6\u001b[0m     \u001b[0mdev\u001b[0m \u001b[1;33m=\u001b[0m \u001b[1;33m[\u001b[0m\u001b[0mx\u001b[0m \u001b[1;33m-\u001b[0m \u001b[0mmean\u001b[0m \u001b[1;32mfor\u001b[0m \u001b[0mx\u001b[0m \u001b[1;32min\u001b[0m \u001b[0mtemps\u001b[0m\u001b[1;33m]\u001b[0m\u001b[1;33m\u001b[0m\u001b[0m\n",
      "\u001b[1;31mTypeError\u001b[0m: object of type 'int' has no len()"
     ]
    }
   ],
   "source": [
    "import math\n",
    "\n",
    "#getting a \"len\" error. also need to figure out how to pass in right columns.\n",
    "\n",
    "def standardDev(temps):\n",
    "    n = len(2) \n",
    "    mean = sum(2) / n \n",
    "    dev = [x - mean for x in temps] \n",
    "    dev2 = [x*x for x in dev] \n",
    "    SD = math.sqrt( sum(dev2) / n) # for the standard deviation of the population \n",
    "    \n",
    "standardDev(temps)"
   ]
  },
  {
   "cell_type": "markdown",
   "metadata": {},
   "source": [
    "## Step 4: Visualize the data"
   ]
  },
  {
   "cell_type": "markdown",
   "metadata": {
    "collapsed": true
   },
   "source": [
    "##### 14. Using MatPlotLib and PyPlot, plot the distribution of the Rate using histograms."
   ]
  },
  {
   "cell_type": "code",
   "execution_count": 128,
   "metadata": {
    "collapsed": false
   },
   "outputs": [],
   "source": [
    "import matplotlib\n",
    "import matplotlib.pyplot as plt \n",
    "\n",
    "plt.hist(temps.index)\n",
    "plt.show()"
   ]
  },
  {
   "cell_type": "markdown",
   "metadata": {},
   "source": [
    "##### 15. Plot the Math distribution"
   ]
  },
  {
   "cell_type": "code",
   "execution_count": null,
   "metadata": {
    "collapsed": false
   },
   "outputs": [],
   "source": [
    "# Need help"
   ]
  },
  {
   "cell_type": "markdown",
   "metadata": {},
   "source": [
    "##### 16. Plot the Verbal distribution"
   ]
  },
  {
   "cell_type": "code",
   "execution_count": null,
   "metadata": {
    "collapsed": false
   },
   "outputs": [],
   "source": [
    "# Need help"
   ]
  },
  {
   "cell_type": "markdown",
   "metadata": {},
   "source": [
    "##### 17. What is the typical assumption for data distribution?"
   ]
  },
  {
   "cell_type": "code",
   "execution_count": null,
   "metadata": {
    "collapsed": false
   },
   "outputs": [],
   "source": [
    "Standard normal distribution with ~68% of all results +- 1 standard deviation, 95% +-2 standard deviations, 99.7% +- 3 standard deviations"
   ]
  },
  {
   "cell_type": "markdown",
   "metadata": {},
   "source": [
    "##### 18. Does that distribution hold true for our data?"
   ]
  },
  {
   "cell_type": "code",
   "execution_count": null,
   "metadata": {
    "collapsed": false
   },
   "outputs": [],
   "source": [
    "#Need help"
   ]
  },
  {
   "cell_type": "markdown",
   "metadata": {},
   "source": [
    "##### 19. Plot some scatterplots. **BONUS**: Use a PyPlot `figure` to present multiple plots at once."
   ]
  },
  {
   "cell_type": "code",
   "execution_count": null,
   "metadata": {
    "collapsed": false
   },
   "outputs": [],
   "source": [
    "# :/"
   ]
  },
  {
   "cell_type": "markdown",
   "metadata": {},
   "source": [
    "##### 20. Are there any interesting relationships to note?"
   ]
  },
  {
   "cell_type": "code",
   "execution_count": null,
   "metadata": {
    "collapsed": false
   },
   "outputs": [],
   "source": [
    "# ;/"
   ]
  },
  {
   "cell_type": "markdown",
   "metadata": {},
   "source": [
    "##### 21. Create box plots for each variable. "
   ]
  },
  {
   "cell_type": "code",
   "execution_count": null,
   "metadata": {
    "collapsed": false
   },
   "outputs": [],
   "source": [
    "# :/"
   ]
  },
  {
   "cell_type": "markdown",
   "metadata": {},
   "source": [
    "##### BONUS: Using Tableau, create a heat map for each variable using a map of the US. "
   ]
  },
  {
   "cell_type": "code",
   "execution_count": null,
   "metadata": {
    "collapsed": true
   },
   "outputs": [],
   "source": []
  }
 ],
 "metadata": {
  "kernelspec": {
   "display_name": "Python 2",
   "language": "python",
   "name": "python2"
  },
  "language_info": {
   "codemirror_mode": {
    "name": "ipython",
    "version": 2
   },
   "file_extension": ".py",
   "mimetype": "text/x-python",
   "name": "python",
   "nbconvert_exporter": "python",
   "pygments_lexer": "ipython2",
   "version": "2.7.11"
  }
 },
 "nbformat": 4,
 "nbformat_minor": 0
}
